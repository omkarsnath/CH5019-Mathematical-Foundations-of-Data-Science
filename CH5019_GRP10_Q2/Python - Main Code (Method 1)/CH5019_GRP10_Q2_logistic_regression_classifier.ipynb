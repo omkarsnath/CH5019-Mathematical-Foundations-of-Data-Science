{
 "cells": [
  {
   "cell_type": "code",
   "execution_count": 1,
   "metadata": {},
   "outputs": [],
   "source": [
    "#importing necessary libraries.\n",
    "import numpy as np\n",
    "import pandas as pd\n",
    "import matplotlib.pyplot as plt"
   ]
  },
  {
   "cell_type": "markdown",
   "metadata": {},
   "source": [
    "## Data preprocessing"
   ]
  },
  {
   "cell_type": "code",
   "execution_count": 2,
   "metadata": {},
   "outputs": [],
   "source": [
    "#loading the data into pandas dataframe.\n",
    "data=pd.read_excel('Dataset_Question2.xlsx')\n",
    "data.loc[:,'Test']=data.loc[:,'Test']=='Pass'"
   ]
  },
  {
   "cell_type": "code",
   "execution_count": 3,
   "metadata": {},
   "outputs": [
    {
     "data": {
      "text/html": [
       "<div>\n",
       "<style scoped>\n",
       "    .dataframe tbody tr th:only-of-type {\n",
       "        vertical-align: middle;\n",
       "    }\n",
       "\n",
       "    .dataframe tbody tr th {\n",
       "        vertical-align: top;\n",
       "    }\n",
       "\n",
       "    .dataframe thead th {\n",
       "        text-align: right;\n",
       "    }\n",
       "</style>\n",
       "<table border=\"1\" class=\"dataframe\">\n",
       "  <thead>\n",
       "    <tr style=\"text-align: right;\">\n",
       "      <th></th>\n",
       "      <th>Temperature</th>\n",
       "      <th>Pressure</th>\n",
       "      <th>Feed Flow rate</th>\n",
       "      <th>Coolant Flow rate</th>\n",
       "      <th>Inlet reactant concentration</th>\n",
       "      <th>Test</th>\n",
       "    </tr>\n",
       "  </thead>\n",
       "  <tbody>\n",
       "    <tr>\n",
       "      <th>0</th>\n",
       "      <td>406.86</td>\n",
       "      <td>17.66</td>\n",
       "      <td>121.83</td>\n",
       "      <td>2109.20</td>\n",
       "      <td>0.1033</td>\n",
       "      <td>True</td>\n",
       "    </tr>\n",
       "    <tr>\n",
       "      <th>1</th>\n",
       "      <td>693.39</td>\n",
       "      <td>24.66</td>\n",
       "      <td>133.18</td>\n",
       "      <td>3138.96</td>\n",
       "      <td>0.3785</td>\n",
       "      <td>True</td>\n",
       "    </tr>\n",
       "    <tr>\n",
       "      <th>2</th>\n",
       "      <td>523.10</td>\n",
       "      <td>23.23</td>\n",
       "      <td>146.55</td>\n",
       "      <td>1058.24</td>\n",
       "      <td>0.4799</td>\n",
       "      <td>False</td>\n",
       "    </tr>\n",
       "    <tr>\n",
       "      <th>3</th>\n",
       "      <td>612.86</td>\n",
       "      <td>40.97</td>\n",
       "      <td>94.44</td>\n",
       "      <td>1325.12</td>\n",
       "      <td>0.3147</td>\n",
       "      <td>False</td>\n",
       "    </tr>\n",
       "    <tr>\n",
       "      <th>4</th>\n",
       "      <td>500.28</td>\n",
       "      <td>37.44</td>\n",
       "      <td>185.48</td>\n",
       "      <td>2474.51</td>\n",
       "      <td>0.2284</td>\n",
       "      <td>True</td>\n",
       "    </tr>\n",
       "  </tbody>\n",
       "</table>\n",
       "</div>"
      ],
      "text/plain": [
       "   Temperature  Pressure  Feed Flow rate  Coolant Flow rate  \\\n",
       "0       406.86     17.66          121.83            2109.20   \n",
       "1       693.39     24.66          133.18            3138.96   \n",
       "2       523.10     23.23          146.55            1058.24   \n",
       "3       612.86     40.97           94.44            1325.12   \n",
       "4       500.28     37.44          185.48            2474.51   \n",
       "\n",
       "   Inlet reactant concentration   Test  \n",
       "0                        0.1033   True  \n",
       "1                        0.3785   True  \n",
       "2                        0.4799  False  \n",
       "3                        0.3147  False  \n",
       "4                        0.2284   True  "
      ]
     },
     "execution_count": 3,
     "metadata": {},
     "output_type": "execute_result"
    }
   ],
   "source": [
    "data.head()"
   ]
  },
  {
   "cell_type": "code",
   "execution_count": 4,
   "metadata": {},
   "outputs": [
    {
     "data": {
      "text/plain": [
       "Temperature                      546.766430\n",
       "Pressure                          25.493270\n",
       "Feed Flow rate                   125.029060\n",
       "Coolant Flow rate               2295.797770\n",
       "Inlet reactant concentration       0.302692\n",
       "dtype: float64"
      ]
     },
     "execution_count": 4,
     "metadata": {},
     "output_type": "execute_result"
    }
   ],
   "source": [
    "#mean of the dataset represented feature wise.\n",
    "data.mean(axis=0)[0:5]"
   ]
  },
  {
   "cell_type": "code",
   "execution_count": 5,
   "metadata": {},
   "outputs": [
    {
     "data": {
      "text/plain": [
       "Temperature                       7544.447741\n",
       "Pressure                           203.131114\n",
       "Feed Flow rate                    1892.959914\n",
       "Coolant Flow rate               583208.097420\n",
       "Inlet reactant concentration         0.013470\n",
       "dtype: float64"
      ]
     },
     "execution_count": 5,
     "metadata": {},
     "output_type": "execute_result"
    }
   ],
   "source": [
    "#variance of the dataset represented feature wise.\n",
    "data.var(axis=0)[0:5]"
   ]
  },
  {
   "cell_type": "code",
   "execution_count": 6,
   "metadata": {},
   "outputs": [],
   "source": [
    "#splitting 70% of the data into training data and rest into testing data.\n",
    "train_data=data.sample(frac=0.7,random_state=58)\n",
    "train_data_targets=train_data.loc[:,'Test']\n",
    "train_data=train_data.iloc[:,0:5]\n",
    "test_data=data.drop(train_data.index)\n",
    "test_data_targets=test_data.loc[:,'Test']\n",
    "test_data=test_data.iloc[:,0:5]"
   ]
  },
  {
   "cell_type": "code",
   "execution_count": 7,
   "metadata": {},
   "outputs": [
    {
     "data": {
      "text/plain": [
       "(700, 5)"
      ]
     },
     "execution_count": 7,
     "metadata": {},
     "output_type": "execute_result"
    }
   ],
   "source": [
    "train_data.shape"
   ]
  },
  {
   "cell_type": "code",
   "execution_count": 8,
   "metadata": {},
   "outputs": [
    {
     "data": {
      "text/html": [
       "<div>\n",
       "<style scoped>\n",
       "    .dataframe tbody tr th:only-of-type {\n",
       "        vertical-align: middle;\n",
       "    }\n",
       "\n",
       "    .dataframe tbody tr th {\n",
       "        vertical-align: top;\n",
       "    }\n",
       "\n",
       "    .dataframe thead th {\n",
       "        text-align: right;\n",
       "    }\n",
       "</style>\n",
       "<table border=\"1\" class=\"dataframe\">\n",
       "  <thead>\n",
       "    <tr style=\"text-align: right;\">\n",
       "      <th></th>\n",
       "      <th>Temperature</th>\n",
       "      <th>Pressure</th>\n",
       "      <th>Feed Flow rate</th>\n",
       "      <th>Coolant Flow rate</th>\n",
       "      <th>Inlet reactant concentration</th>\n",
       "    </tr>\n",
       "  </thead>\n",
       "  <tbody>\n",
       "    <tr>\n",
       "      <th>595</th>\n",
       "      <td>480.88</td>\n",
       "      <td>6.39</td>\n",
       "      <td>118.26</td>\n",
       "      <td>2554.76</td>\n",
       "      <td>0.1584</td>\n",
       "    </tr>\n",
       "    <tr>\n",
       "      <th>604</th>\n",
       "      <td>659.99</td>\n",
       "      <td>31.68</td>\n",
       "      <td>143.51</td>\n",
       "      <td>1569.74</td>\n",
       "      <td>0.4967</td>\n",
       "    </tr>\n",
       "    <tr>\n",
       "      <th>570</th>\n",
       "      <td>485.34</td>\n",
       "      <td>38.17</td>\n",
       "      <td>141.96</td>\n",
       "      <td>2628.79</td>\n",
       "      <td>0.4236</td>\n",
       "    </tr>\n",
       "    <tr>\n",
       "      <th>826</th>\n",
       "      <td>450.28</td>\n",
       "      <td>18.21</td>\n",
       "      <td>192.95</td>\n",
       "      <td>1151.09</td>\n",
       "      <td>0.4559</td>\n",
       "    </tr>\n",
       "    <tr>\n",
       "      <th>277</th>\n",
       "      <td>540.10</td>\n",
       "      <td>8.51</td>\n",
       "      <td>53.28</td>\n",
       "      <td>2739.59</td>\n",
       "      <td>0.1699</td>\n",
       "    </tr>\n",
       "  </tbody>\n",
       "</table>\n",
       "</div>"
      ],
      "text/plain": [
       "     Temperature  Pressure  Feed Flow rate  Coolant Flow rate  \\\n",
       "595       480.88      6.39          118.26            2554.76   \n",
       "604       659.99     31.68          143.51            1569.74   \n",
       "570       485.34     38.17          141.96            2628.79   \n",
       "826       450.28     18.21          192.95            1151.09   \n",
       "277       540.10      8.51           53.28            2739.59   \n",
       "\n",
       "     Inlet reactant concentration  \n",
       "595                        0.1584  \n",
       "604                        0.4967  \n",
       "570                        0.4236  \n",
       "826                        0.4559  \n",
       "277                        0.1699  "
      ]
     },
     "execution_count": 8,
     "metadata": {},
     "output_type": "execute_result"
    }
   ],
   "source": [
    "train_data.head()"
   ]
  },
  {
   "cell_type": "code",
   "execution_count": 9,
   "metadata": {},
   "outputs": [
    {
     "data": {
      "text/plain": [
       "(300, 5)"
      ]
     },
     "execution_count": 9,
     "metadata": {},
     "output_type": "execute_result"
    }
   ],
   "source": [
    "test_data.shape"
   ]
  },
  {
   "cell_type": "code",
   "execution_count": 10,
   "metadata": {},
   "outputs": [
    {
     "data": {
      "text/html": [
       "<div>\n",
       "<style scoped>\n",
       "    .dataframe tbody tr th:only-of-type {\n",
       "        vertical-align: middle;\n",
       "    }\n",
       "\n",
       "    .dataframe tbody tr th {\n",
       "        vertical-align: top;\n",
       "    }\n",
       "\n",
       "    .dataframe thead th {\n",
       "        text-align: right;\n",
       "    }\n",
       "</style>\n",
       "<table border=\"1\" class=\"dataframe\">\n",
       "  <thead>\n",
       "    <tr style=\"text-align: right;\">\n",
       "      <th></th>\n",
       "      <th>Temperature</th>\n",
       "      <th>Pressure</th>\n",
       "      <th>Feed Flow rate</th>\n",
       "      <th>Coolant Flow rate</th>\n",
       "      <th>Inlet reactant concentration</th>\n",
       "    </tr>\n",
       "  </thead>\n",
       "  <tbody>\n",
       "    <tr>\n",
       "      <th>1</th>\n",
       "      <td>693.39</td>\n",
       "      <td>24.66</td>\n",
       "      <td>133.18</td>\n",
       "      <td>3138.96</td>\n",
       "      <td>0.3785</td>\n",
       "    </tr>\n",
       "    <tr>\n",
       "      <th>5</th>\n",
       "      <td>413.67</td>\n",
       "      <td>44.19</td>\n",
       "      <td>84.87</td>\n",
       "      <td>3036.71</td>\n",
       "      <td>0.3293</td>\n",
       "    </tr>\n",
       "    <tr>\n",
       "      <th>11</th>\n",
       "      <td>591.40</td>\n",
       "      <td>34.51</td>\n",
       "      <td>109.68</td>\n",
       "      <td>2532.66</td>\n",
       "      <td>0.1111</td>\n",
       "    </tr>\n",
       "    <tr>\n",
       "      <th>14</th>\n",
       "      <td>474.59</td>\n",
       "      <td>25.79</td>\n",
       "      <td>195.14</td>\n",
       "      <td>1610.85</td>\n",
       "      <td>0.1822</td>\n",
       "    </tr>\n",
       "    <tr>\n",
       "      <th>20</th>\n",
       "      <td>618.82</td>\n",
       "      <td>44.37</td>\n",
       "      <td>156.57</td>\n",
       "      <td>2099.16</td>\n",
       "      <td>0.4327</td>\n",
       "    </tr>\n",
       "  </tbody>\n",
       "</table>\n",
       "</div>"
      ],
      "text/plain": [
       "    Temperature  Pressure  Feed Flow rate  Coolant Flow rate  \\\n",
       "1        693.39     24.66          133.18            3138.96   \n",
       "5        413.67     44.19           84.87            3036.71   \n",
       "11       591.40     34.51          109.68            2532.66   \n",
       "14       474.59     25.79          195.14            1610.85   \n",
       "20       618.82     44.37          156.57            2099.16   \n",
       "\n",
       "    Inlet reactant concentration  \n",
       "1                         0.3785  \n",
       "5                         0.3293  \n",
       "11                        0.1111  \n",
       "14                        0.1822  \n",
       "20                        0.4327  "
      ]
     },
     "execution_count": 10,
     "metadata": {},
     "output_type": "execute_result"
    }
   ],
   "source": [
    "test_data.head()"
   ]
  },
  {
   "cell_type": "markdown",
   "metadata": {},
   "source": [
    "# Normalizing Data\n",
    "Normalizing the given data using the given ranges of input features in the question.\n",
    "* Temperature: 400-700 K\n",
    "* Pressure: 1-50 bar\n",
    "* Feed Flow Rate: 50-200 kmol/hr\n",
    "* Coolant Flow Rate: 1000-3600 L/hr\n",
    "* Inlet Reactant Concentration: 0.1-0.5 mole fraction\n",
    "\n",
    "By doing the following normalization all the input features will be scaled to range 0 to 1."
   ]
  },
  {
   "cell_type": "code",
   "execution_count": 11,
   "metadata": {},
   "outputs": [],
   "source": [
    "train_data.loc[:,'Temperature']=(train_data.loc[:,'Temperature']-400)/300.0\n",
    "train_data.loc[:,'Pressure']=(train_data.loc[:,'Pressure']-1)/49.0\n",
    "train_data.loc[:,'Feed Flow rate']=(train_data.loc[:,'Feed Flow rate']-50)/150.0\n",
    "train_data.loc[:,'Coolant Flow rate']=(train_data.loc[:,'Coolant Flow rate']-1000)/2600.0\n",
    "train_data.loc[:,'Inlet reactant concentration']=(train_data.loc[:,'Inlet reactant concentration']-0.1)/0.4"
   ]
  },
  {
   "cell_type": "code",
   "execution_count": 12,
   "metadata": {},
   "outputs": [
    {
     "data": {
      "text/html": [
       "<div>\n",
       "<style scoped>\n",
       "    .dataframe tbody tr th:only-of-type {\n",
       "        vertical-align: middle;\n",
       "    }\n",
       "\n",
       "    .dataframe tbody tr th {\n",
       "        vertical-align: top;\n",
       "    }\n",
       "\n",
       "    .dataframe thead th {\n",
       "        text-align: right;\n",
       "    }\n",
       "</style>\n",
       "<table border=\"1\" class=\"dataframe\">\n",
       "  <thead>\n",
       "    <tr style=\"text-align: right;\">\n",
       "      <th></th>\n",
       "      <th>Temperature</th>\n",
       "      <th>Pressure</th>\n",
       "      <th>Feed Flow rate</th>\n",
       "      <th>Coolant Flow rate</th>\n",
       "      <th>Inlet reactant concentration</th>\n",
       "    </tr>\n",
       "  </thead>\n",
       "  <tbody>\n",
       "    <tr>\n",
       "      <th>595</th>\n",
       "      <td>0.269600</td>\n",
       "      <td>0.110000</td>\n",
       "      <td>0.455067</td>\n",
       "      <td>0.597985</td>\n",
       "      <td>0.14600</td>\n",
       "    </tr>\n",
       "    <tr>\n",
       "      <th>604</th>\n",
       "      <td>0.866633</td>\n",
       "      <td>0.626122</td>\n",
       "      <td>0.623400</td>\n",
       "      <td>0.219131</td>\n",
       "      <td>0.99175</td>\n",
       "    </tr>\n",
       "    <tr>\n",
       "      <th>570</th>\n",
       "      <td>0.284467</td>\n",
       "      <td>0.758571</td>\n",
       "      <td>0.613067</td>\n",
       "      <td>0.626458</td>\n",
       "      <td>0.80900</td>\n",
       "    </tr>\n",
       "    <tr>\n",
       "      <th>826</th>\n",
       "      <td>0.167600</td>\n",
       "      <td>0.351224</td>\n",
       "      <td>0.953000</td>\n",
       "      <td>0.058112</td>\n",
       "      <td>0.88975</td>\n",
       "    </tr>\n",
       "    <tr>\n",
       "      <th>277</th>\n",
       "      <td>0.467000</td>\n",
       "      <td>0.153265</td>\n",
       "      <td>0.021867</td>\n",
       "      <td>0.669073</td>\n",
       "      <td>0.17475</td>\n",
       "    </tr>\n",
       "  </tbody>\n",
       "</table>\n",
       "</div>"
      ],
      "text/plain": [
       "     Temperature  Pressure  Feed Flow rate  Coolant Flow rate  \\\n",
       "595     0.269600  0.110000        0.455067           0.597985   \n",
       "604     0.866633  0.626122        0.623400           0.219131   \n",
       "570     0.284467  0.758571        0.613067           0.626458   \n",
       "826     0.167600  0.351224        0.953000           0.058112   \n",
       "277     0.467000  0.153265        0.021867           0.669073   \n",
       "\n",
       "     Inlet reactant concentration  \n",
       "595                       0.14600  \n",
       "604                       0.99175  \n",
       "570                       0.80900  \n",
       "826                       0.88975  \n",
       "277                       0.17475  "
      ]
     },
     "execution_count": 12,
     "metadata": {},
     "output_type": "execute_result"
    }
   ],
   "source": [
    "train_data.head()"
   ]
  },
  {
   "cell_type": "code",
   "execution_count": 13,
   "metadata": {},
   "outputs": [],
   "source": [
    "test_data.loc[:,'Temperature']=(test_data.loc[:,'Temperature']-400)/300.0\n",
    "test_data.loc[:,'Pressure']=(test_data.loc[:,'Pressure']-1)/49.0\n",
    "test_data.loc[:,'Feed Flow rate']=(test_data.loc[:,'Feed Flow rate']-50)/150.0\n",
    "test_data.loc[:,'Coolant Flow rate']=(test_data.loc[:,'Coolant Flow rate']-1000)/2600.0\n",
    "test_data.loc[:,'Inlet reactant concentration']=(test_data.loc[:,'Inlet reactant concentration']-0.1)/0.4"
   ]
  },
  {
   "cell_type": "code",
   "execution_count": 14,
   "metadata": {},
   "outputs": [
    {
     "data": {
      "text/html": [
       "<div>\n",
       "<style scoped>\n",
       "    .dataframe tbody tr th:only-of-type {\n",
       "        vertical-align: middle;\n",
       "    }\n",
       "\n",
       "    .dataframe tbody tr th {\n",
       "        vertical-align: top;\n",
       "    }\n",
       "\n",
       "    .dataframe thead th {\n",
       "        text-align: right;\n",
       "    }\n",
       "</style>\n",
       "<table border=\"1\" class=\"dataframe\">\n",
       "  <thead>\n",
       "    <tr style=\"text-align: right;\">\n",
       "      <th></th>\n",
       "      <th>Temperature</th>\n",
       "      <th>Pressure</th>\n",
       "      <th>Feed Flow rate</th>\n",
       "      <th>Coolant Flow rate</th>\n",
       "      <th>Inlet reactant concentration</th>\n",
       "    </tr>\n",
       "  </thead>\n",
       "  <tbody>\n",
       "    <tr>\n",
       "      <th>1</th>\n",
       "      <td>0.977967</td>\n",
       "      <td>0.482857</td>\n",
       "      <td>0.554533</td>\n",
       "      <td>0.822677</td>\n",
       "      <td>0.69625</td>\n",
       "    </tr>\n",
       "    <tr>\n",
       "      <th>5</th>\n",
       "      <td>0.045567</td>\n",
       "      <td>0.881429</td>\n",
       "      <td>0.232467</td>\n",
       "      <td>0.783350</td>\n",
       "      <td>0.57325</td>\n",
       "    </tr>\n",
       "    <tr>\n",
       "      <th>11</th>\n",
       "      <td>0.638000</td>\n",
       "      <td>0.683878</td>\n",
       "      <td>0.397867</td>\n",
       "      <td>0.589485</td>\n",
       "      <td>0.02775</td>\n",
       "    </tr>\n",
       "    <tr>\n",
       "      <th>14</th>\n",
       "      <td>0.248633</td>\n",
       "      <td>0.505918</td>\n",
       "      <td>0.967600</td>\n",
       "      <td>0.234942</td>\n",
       "      <td>0.20550</td>\n",
       "    </tr>\n",
       "    <tr>\n",
       "      <th>20</th>\n",
       "      <td>0.729400</td>\n",
       "      <td>0.885102</td>\n",
       "      <td>0.710467</td>\n",
       "      <td>0.422754</td>\n",
       "      <td>0.83175</td>\n",
       "    </tr>\n",
       "  </tbody>\n",
       "</table>\n",
       "</div>"
      ],
      "text/plain": [
       "    Temperature  Pressure  Feed Flow rate  Coolant Flow rate  \\\n",
       "1      0.977967  0.482857        0.554533           0.822677   \n",
       "5      0.045567  0.881429        0.232467           0.783350   \n",
       "11     0.638000  0.683878        0.397867           0.589485   \n",
       "14     0.248633  0.505918        0.967600           0.234942   \n",
       "20     0.729400  0.885102        0.710467           0.422754   \n",
       "\n",
       "    Inlet reactant concentration  \n",
       "1                        0.69625  \n",
       "5                        0.57325  \n",
       "11                       0.02775  \n",
       "14                       0.20550  \n",
       "20                       0.83175  "
      ]
     },
     "execution_count": 14,
     "metadata": {},
     "output_type": "execute_result"
    }
   ],
   "source": [
    "test_data.head()"
   ]
  },
  {
   "cell_type": "code",
   "execution_count": 15,
   "metadata": {},
   "outputs": [],
   "source": [
    "# converting the train and test data into numpy arrays. \n",
    "train_data=train_data.to_numpy()\n",
    "train_data_targets=train_data_targets.to_numpy()\n",
    "train_data_targets=np.reshape(train_data_targets,(train_data_targets.shape[0],1))\n",
    "test_data=test_data.to_numpy()\n",
    "test_data_targets=test_data_targets.to_numpy()\n",
    "test_data_targets=np.reshape(test_data_targets,(test_data_targets.shape[0],1))"
   ]
  },
  {
   "cell_type": "code",
   "execution_count": 16,
   "metadata": {},
   "outputs": [
    {
     "name": "stdout",
     "output_type": "stream",
     "text": [
      "rank of the input training matrix:  5\n"
     ]
    }
   ],
   "source": [
    "#finding rank of the training dataset.\n",
    "print('rank of the input training matrix: ',np.linalg.matrix_rank(train_data))"
   ]
  },
  {
   "cell_type": "markdown",
   "metadata": {},
   "source": [
    "# Cost Function\n",
    "cross-entropy loss function is used here."
   ]
  },
  {
   "cell_type": "code",
   "execution_count": 17,
   "metadata": {},
   "outputs": [],
   "source": [
    "def cost(output,target):\n",
    "    return -target*np.log(output)-(1.0-target)*np.log(1.0-output)"
   ]
  },
  {
   "cell_type": "markdown",
   "metadata": {},
   "source": [
    "# Sigmoid function"
   ]
  },
  {
   "cell_type": "code",
   "execution_count": 18,
   "metadata": {},
   "outputs": [],
   "source": [
    "def sigmoid(x):\n",
    "    return 1.0/(1.0+np.exp(-x))"
   ]
  },
  {
   "cell_type": "markdown",
   "metadata": {},
   "source": [
    " ## Gradient Descent optimizer\n",
    " This function will execute one step of gradient descent."
   ]
  },
  {
   "cell_type": "code",
   "execution_count": 19,
   "metadata": {},
   "outputs": [],
   "source": [
    "def optimizer_step(w,b,X,Y,alpha):\n",
    "    m=X.shape[0]\n",
    "    Z=sigmoid(np.dot(X,w)+b)\n",
    "    L=(1/m)*np.sum(cost(Z,Y))\n",
    "    \n",
    "    w_grad=np.reshape((1/m)*np.sum(X*(Z-Y),axis=0),(5,1))\n",
    "    b_grad=(1/m)*np.sum(Z-Y)\n",
    "    \n",
    "    w=w-alpha*w_grad\n",
    "    b=b-alpha*b_grad\n",
    "    \n",
    "    return [L,w,b]"
   ]
  },
  {
   "cell_type": "markdown",
   "metadata": {},
   "source": [
    "## Model Trainer\n",
    "This function will train the model for given number of epochs"
   ]
  },
  {
   "cell_type": "code",
   "execution_count": 20,
   "metadata": {},
   "outputs": [],
   "source": [
    "def train_model(X_train,Y_train,X_val,Y_val,w_initial,b_initial,num_iters,learning_rate=0.1):\n",
    "    w=w_initial\n",
    "    b=b_initial\n",
    "    m=Y_train.shape[0]\n",
    "    n=Y_val.shape[0]\n",
    "    Loss_matrix=np.zeros(num_iters)\n",
    "    train_acc=np.zeros(num_iters)\n",
    "    val_acc=np.zeros(num_iters)\n",
    "    for i in range(num_iters):\n",
    "        Loss_matrix[i],w,b=optimizer_step(w,b,X_train,Y_train,alpha=learning_rate)\n",
    "        train_acc[i]=np.sum(predictor(X_train,w,b)==Y_train)/float(m)\n",
    "        val_acc[i]=np.sum(predictor(X_val,w,b)==Y_val)/float(n)\n",
    "        if (i+1)%50==0:\n",
    "            print('#iteration:%d => training accuracy: %f & test_acc: %f'%(i+1,train_acc[i]*100,val_acc[i]*100))\n",
    "    print('w,b at the end of %d iterations are:'%num_iters,w,b)\n",
    "    f1=plt.figure();ax1=f1.add_subplot(111)\n",
    "    ax1.plot(Loss_matrix.tolist())\n",
    "    plt.title(\"training loss vs iterations\")\n",
    "    plt.xlabel(\"# iterations\")\n",
    "    plt.ylabel(\"training_loss\")\n",
    "    f2=plt.figure();ax2=f2.add_subplot(111)\n",
    "    ax2.plot(train_acc.tolist(),'g',val_acc.tolist(),'r')\n",
    "    plt.legend(['train_acc','val_acc'])\n",
    "    plt.title(\"accuracies vs iterations\")\n",
    "    plt.xlabel(\"# iterations\")\n",
    "    plt.ylabel(\"accuracy\")\n",
    "    plt.show()\n",
    "    return [w,b]"
   ]
  },
  {
   "cell_type": "markdown",
   "metadata": {},
   "source": [
    "## Confusion Matrix, Precision, Recall, F1 Score\n",
    "Function to calculate confusion matrix, precision, recall and F1 score."
   ]
  },
  {
   "cell_type": "code",
   "execution_count": 21,
   "metadata": {},
   "outputs": [],
   "source": [
    "def confusion_matrix_precision_recall_f1_score(true_labels,predicted_labels):\n",
    "    total=true_labels.shape[0]\n",
    "    temp_1=true_labels+predicted_labels\n",
    "    temp_2=true_labels!=predicted_labels\n",
    "    TP=np.sum(temp_1==2)\n",
    "    TN=np.sum(temp_1==0)\n",
    "    FN=np.sum(true_labels*temp_2)\n",
    "    FP=total-(TP+TN+FN)\n",
    "    precision=float(TP)/(TP+FP)\n",
    "    recall=float(TP)/(TP+FN)\n",
    "    F1_score=2*(precision*recall)/(precision+recall)\n",
    "    return [TP,TN,FP,FN,precision,recall,F1_score]"
   ]
  },
  {
   "cell_type": "markdown",
   "metadata": {},
   "source": [
    "## Function to initialize weights"
   ]
  },
  {
   "cell_type": "code",
   "execution_count": 22,
   "metadata": {},
   "outputs": [],
   "source": [
    "def weights_initializer():\n",
    "    w=np.zeros((5,1),dtype=np.float)\n",
    "    b=0.0\n",
    "    \n",
    "    return w,b"
   ]
  },
  {
   "cell_type": "markdown",
   "metadata": {},
   "source": [
    "## Predictor  function\n",
    "This function will predict the label by passing input and parameter values."
   ]
  },
  {
   "cell_type": "code",
   "execution_count": 23,
   "metadata": {},
   "outputs": [],
   "source": [
    "def predictor(X,w,b):\n",
    "    predictions=np.zeros((X.shape[0],1),dtype=np.int)\n",
    "    predictions=sigmoid(np.dot(X,w)+b)>=0.5\n",
    "    return predictions+0"
   ]
  },
  {
   "cell_type": "code",
   "execution_count": 24,
   "metadata": {},
   "outputs": [],
   "source": [
    "#initializing the weights(parameters) of the model.\n",
    "w_initial,b_initial=weights_initializer()"
   ]
  },
  {
   "cell_type": "markdown",
   "metadata": {},
   "source": [
    "## Training the model\n",
    "The command below will train the model for 1000 epochs with zero initilization"
   ]
  },
  {
   "cell_type": "code",
   "execution_count": 25,
   "metadata": {
    "scrolled": false
   },
   "outputs": [
    {
     "name": "stdout",
     "output_type": "stream",
     "text": [
      "#iteration:50 => training accuracy: 59.428571 & test_acc: 56.333333\n",
      "#iteration:100 => training accuracy: 63.428571 & test_acc: 62.000000\n",
      "#iteration:150 => training accuracy: 77.000000 & test_acc: 69.333333\n",
      "#iteration:200 => training accuracy: 81.571429 & test_acc: 80.000000\n",
      "#iteration:250 => training accuracy: 84.000000 & test_acc: 84.666667\n",
      "#iteration:300 => training accuracy: 86.285714 & test_acc: 88.333333\n",
      "#iteration:350 => training accuracy: 87.857143 & test_acc: 89.333333\n",
      "#iteration:400 => training accuracy: 89.142857 & test_acc: 91.000000\n",
      "#iteration:450 => training accuracy: 90.285714 & test_acc: 92.333333\n",
      "#iteration:500 => training accuracy: 91.000000 & test_acc: 93.333333\n",
      "#iteration:550 => training accuracy: 91.000000 & test_acc: 93.666667\n",
      "#iteration:600 => training accuracy: 91.285714 & test_acc: 93.666667\n",
      "#iteration:650 => training accuracy: 91.857143 & test_acc: 93.666667\n",
      "#iteration:700 => training accuracy: 92.714286 & test_acc: 94.000000\n",
      "#iteration:750 => training accuracy: 93.142857 & test_acc: 94.000000\n",
      "#iteration:800 => training accuracy: 93.571429 & test_acc: 94.666667\n",
      "#iteration:850 => training accuracy: 93.714286 & test_acc: 95.000000\n",
      "#iteration:900 => training accuracy: 93.714286 & test_acc: 95.666667\n",
      "#iteration:950 => training accuracy: 93.857143 & test_acc: 95.666667\n",
      "#iteration:1000 => training accuracy: 94.000000 & test_acc: 95.666667\n",
      "w,b at the end of 1000 iterations are: [[-0.36141331]\n",
      " [-0.68820591]\n",
      " [-0.81861798]\n",
      " [ 5.05891771]\n",
      " [-0.29389473]] -0.8777059229807475\n"
     ]
    },
    {
     "data": {
      "image/png": "[encoded data removed]",
      "text/plain": [
       "<Figure size 432x288 with 1 Axes>"
      ]
     },
     "metadata": {
      "needs_background": "light"
     },
     "output_type": "display_data"
    },
    {
     "data": {
      "image/png": "[encoded data removed]",
      "text/plain": [
       "<Figure size 432x288 with 1 Axes>"
      ]
     },
     "metadata": {
      "needs_background": "light"
     },
     "output_type": "display_data"
    }
   ],
   "source": [
    "w,b=train_model(train_data,train_data_targets+0.0,test_data,test_data_targets+0.0,w_initial,b_initial,num_iters=1000)"
   ]
  },
  {
   "cell_type": "code",
   "execution_count": 26,
   "metadata": {},
   "outputs": [
    {
     "name": "stdout",
     "output_type": "stream",
     "text": [
      "w:  [[-0.36141331]\n",
      " [-0.68820591]\n",
      " [-0.81861798]\n",
      " [ 5.05891771]\n",
      " [-0.29389473]] b:  -0.8777059229807475\n"
     ]
    }
   ],
   "source": [
    "print('w: ',w,'b: ',b)"
   ]
  },
  {
   "cell_type": "code",
   "execution_count": 27,
   "metadata": {},
   "outputs": [],
   "source": [
    "#predicting the test data\n",
    "test_predictions=predictor(test_data,w,b)"
   ]
  },
  {
   "cell_type": "code",
   "execution_count": 28,
   "metadata": {},
   "outputs": [],
   "source": [
    "TP,TN,FP,FN,precision,recall,F1_score=confusion_matrix_precision_recall_f1_score(test_data_targets,test_predictions)"
   ]
  },
  {
   "cell_type": "code",
   "execution_count": 29,
   "metadata": {},
   "outputs": [
    {
     "name": "stdout",
     "output_type": "stream",
     "text": [
      "TP: 162 TN: 125 FP: 6 FN: 7\n",
      "F1 Score:  0.9614243323442135\n",
      "precision:  0.9642857142857143\n",
      "recall:  0.9585798816568047\n"
     ]
    }
   ],
   "source": [
    "print('TP:',TP,'TN:',TN,'FP:',FP,'FN:',FN)\n",
    "print('F1 Score: ',F1_score)\n",
    "print('precision: ',precision)\n",
    "print('recall: ',recall)"
   ]
  },
  {
   "cell_type": "code",
   "execution_count": null,
   "metadata": {},
   "outputs": [],
   "source": []
  },
  {
   "cell_type": "code",
   "execution_count": null,
   "metadata": {},
   "outputs": [],
   "source": []
  },
  {
   "cell_type": "code",
   "execution_count": null,
   "metadata": {},
   "outputs": [],
   "source": []
  },
  {
   "cell_type": "code",
   "execution_count": null,
   "metadata": {},
   "outputs": [],
   "source": []
  },
  {
   "cell_type": "code",
   "execution_count": null,
   "metadata": {},
   "outputs": [],
   "source": []
  },
  {
   "cell_type": "code",
   "execution_count": null,
   "metadata": {},
   "outputs": [],
   "source": []
  }
 ],
 "metadata": {
  "kernelspec": {
   "display_name": "Python 3",
   "language": "python",
   "name": "python3"
  },
  "language_info": {
   "codemirror_mode": {
    "name": "ipython",
    "version": 3
   },
   "file_extension": ".py",
   "mimetype": "text/x-python",
   "name": "python",
   "nbconvert_exporter": "python",
   "pygments_lexer": "ipython3",
   "version": "3.8.2"
  }
 },
 "nbformat": 4,
 "nbformat_minor": 4
}
